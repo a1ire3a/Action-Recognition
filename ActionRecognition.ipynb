{
  "nbformat": 4,
  "nbformat_minor": 0,
  "metadata": {
    "colab": {
      "name": "ActionRecognition.ipynb",
      "provenance": [],
      "collapsed_sections": [],
      "mount_file_id": "12WzczQBZt0UwxLllfsgDSbeDYbZNqdDV",
      "authorship_tag": "ABX9TyMkFczUo5xWQ2cv1I3pbQpJ",
      "include_colab_link": true
    },
    "kernelspec": {
      "name": "python3",
      "display_name": "Python 3"
    },
    "language_info": {
      "name": "python"
    },
    "accelerator": "GPU"
  },
  "cells": [
    {
      "cell_type": "markdown",
      "metadata": {
        "id": "view-in-github",
        "colab_type": "text"
      },
      "source": [
        "<a href=\"https://colab.research.google.com/github/a1ire3a/Action-Recognition/blob/main/ActionRecognition.ipynb\" target=\"_parent\"><img src=\"https://colab.research.google.com/assets/colab-badge.svg\" alt=\"Open In Colab\"/></a>"
      ]
    },
    {
      "cell_type": "code",
      "execution_count": 1,
      "metadata": {
        "id": "nod2DNtOaBfW"
      },
      "outputs": [],
      "source": [
        "import numpy as np\n",
        "import tensorflow as tf\n",
        "from keras.models import Sequential\n",
        "from keras.layers import Dense, LSTM, Dropout, Bidirectional\n",
        "from sklearn.model_selection import train_test_split\n",
        "from sklearn.preprocessing import MinMaxScaler\n",
        "import matplotlib.pyplot as plt"
      ]
    },
    {
      "cell_type": "markdown",
      "source": [
        "in this block, load recommended library."
      ],
      "metadata": {
        "id": "vjK5OlleOCKk"
      }
    },
    {
      "cell_type": "code",
      "source": [
        "path = '/content/drive/MyDrive/Colab Notebooks/action.npy'\n",
        "data = np.load(path)"
      ],
      "metadata": {
        "id": "oUQeF8AbahkR"
      },
      "execution_count": 2,
      "outputs": []
    },
    {
      "cell_type": "markdown",
      "source": [
        "load dataset from google drive"
      ],
      "metadata": {
        "id": "WDsvVpzTOKkt"
      }
    },
    {
      "cell_type": "code",
      "source": [
        "print(data.shape)"
      ],
      "metadata": {
        "colab": {
          "base_uri": "https://localhost:8080/"
        },
        "id": "4VYtunknoVDd",
        "outputId": "3cc7908e-69ca-492d-9431-03e0f6921f16"
      },
      "execution_count": 4,
      "outputs": [
        {
          "output_type": "stream",
          "name": "stdout",
          "text": [
            "(4016, 48)\n"
          ]
        }
      ]
    },
    {
      "cell_type": "code",
      "source": [
        "temp = []\n",
        "D = []\n",
        "L = []\n",
        "nv = 1\n",
        "min = 1000\n",
        "max = -1\n",
        "\n",
        "for i in range(4016):\n",
        "    t = data[i]\n",
        "    if t[0] == nv:\n",
        "        temp.append(t[3:48])\n",
        "        label = t[2] - 1\n",
        "    else:\n",
        "        nv+=1\n",
        "        T = np.asarray(temp)\n",
        "        D.append(T)\n",
        "        a,b = np.shape(T)\n",
        "        if a < min: min = a\n",
        "        if a > max: max = a\n",
        "        L.append(label)\n",
        "        temp = []\n",
        "        temp.append(t[3:48])\n",
        "D.append(np.asarray(temp))\n",
        "L.append(label)\n",
        "DD = np.asarray(D)\n",
        "LL = np.asarray(L).astype(int)"
      ],
      "metadata": {
        "colab": {
          "base_uri": "https://localhost:8080/"
        },
        "id": "IA2XGnVaa47t",
        "outputId": "f5f9f566-7531-4de8-8adf-24c001259bb7"
      },
      "execution_count": null,
      "outputs": [
        {
          "output_type": "stream",
          "name": "stderr",
          "text": [
            "/usr/local/lib/python3.7/dist-packages/ipykernel_launcher.py:25: VisibleDeprecationWarning: Creating an ndarray from ragged nested sequences (which is a list-or-tuple of lists-or-tuples-or ndarrays with different lengths or shapes) is deprecated. If you meant to do this, you must specify 'dtype=object' when creating the ndarray.\n"
          ]
        }
      ]
    },
    {
      "cell_type": "markdown",
      "source": [
        "in this block i want to read dataset from data numpy and seprate aech video from other and store to numpy array that useable for train\n",
        "\n",
        "temp list create for store each video, D list for append temp list when i read all frame from one video, L list for label of video, nv is a counter for count number of video that i itrate and compare to video number to realize when video change. min and max for store minimum and maximum length of video.\n",
        "\n",
        "for loop itrate all 4016 row of dataset to seprate feature from label. t is a temporary variable to read one frame from dataset. until video number equal to nv, all 45 feature store to temp and label equal to label of video minus 1 cause the label start with 0. when nv doesnt equal to video label we move to else block to store temp to D and label to L. then we calculate min and max of video length and store into variable. then clear temp and append new row to temp for next itrate. when the loop is end we append last row data into D and L then convert list to numpy array."
      ],
      "metadata": {
        "id": "GY8C4V3rOzA2"
      }
    },
    {
      "cell_type": "code",
      "source": [
        "DDD = tf.keras.preprocessing.sequence.pad_sequences(DD, truncating=\"post\", maxlen=int((max+min)/2), dtype=float)"
      ],
      "metadata": {
        "id": "12Se8663fjXS"
      },
      "execution_count": null,
      "outputs": []
    },
    {
      "cell_type": "markdown",
      "source": [
        "in this block sizing each video to average of length of all."
      ],
      "metadata": {
        "id": "0xa2BOVVUF-k"
      }
    },
    {
      "cell_type": "code",
      "source": [
        "n1,n2,n3 = np.shape(DDD)"
      ],
      "metadata": {
        "id": "ePN78-HZipAK"
      },
      "execution_count": null,
      "outputs": []
    },
    {
      "cell_type": "markdown",
      "source": [
        "get shape of dataset"
      ],
      "metadata": {
        "id": "ZHLXfIcGUjup"
      }
    },
    {
      "cell_type": "code",
      "source": [
        "std = MinMaxScaler()\n",
        "DDD = std.fit_transform(DDD.reshape(-1,1)).reshape(n1,n2,n3)"
      ],
      "metadata": {
        "id": "PunL09ZZfB42"
      },
      "execution_count": null,
      "outputs": []
    },
    {
      "cell_type": "markdown",
      "source": [
        "standardize value of each feature with minmax funtion. test dataset with standardscaler and concluded that minmaxscaler better performance in this case"
      ],
      "metadata": {
        "id": "WCiX2Am5U48a"
      }
    },
    {
      "cell_type": "code",
      "source": [
        "trainX, testX, trainY, testY = train_test_split(DDD,LL, test_size=0.2)"
      ],
      "metadata": {
        "id": "Vvpd3HobV0e9"
      },
      "execution_count": null,
      "outputs": []
    },
    {
      "cell_type": "markdown",
      "source": [
        "split dataset and label in a ratio of 0.2 for train and test "
      ],
      "metadata": {
        "id": "uw_k-LV5VTit"
      }
    },
    {
      "cell_type": "code",
      "source": [
        "model_lstm = Sequential()\n",
        "#model_lstm.add(LSTM(units=256, input_shape=(35,45)))\n",
        "model_lstm.add(Bidirectional(LSTM(128, return_sequences=True), input_shape=(n2, 45)))\n",
        "model_lstm.add(Bidirectional(LSTM(128)))\n",
        "model_lstm.add(Dropout(0.2))\n",
        "model_lstm.add(Dense(256, activation='relu'))\n",
        "#model_lstm.add(Dropout(0.3))\n",
        "model_lstm.add(Dense(9, activation = 'softmax'))\n",
        "model_lstm.summary()"
      ],
      "metadata": {
        "colab": {
          "base_uri": "https://localhost:8080/"
        },
        "id": "lWmOWeCpjIpi",
        "outputId": "f11cdccb-d90b-42c2-9aac-c75894e92e21"
      },
      "execution_count": null,
      "outputs": [
        {
          "output_type": "stream",
          "name": "stdout",
          "text": [
            "Model: \"sequential_3\"\n",
            "_________________________________________________________________\n",
            " Layer (type)                Output Shape              Param #   \n",
            "=================================================================\n",
            " bidirectional_6 (Bidirectio  (None, 21, 256)          178176    \n",
            " nal)                                                            \n",
            "                                                                 \n",
            " bidirectional_7 (Bidirectio  (None, 256)              394240    \n",
            " nal)                                                            \n",
            "                                                                 \n",
            " dropout_1 (Dropout)         (None, 256)               0         \n",
            "                                                                 \n",
            " dense_6 (Dense)             (None, 256)               65792     \n",
            "                                                                 \n",
            " dense_7 (Dense)             (None, 9)                 2313      \n",
            "                                                                 \n",
            "=================================================================\n",
            "Total params: 640,521\n",
            "Trainable params: 640,521\n",
            "Non-trainable params: 0\n",
            "_________________________________________________________________\n"
          ]
        }
      ]
    },
    {
      "cell_type": "markdown",
      "source": [
        "build my LSTM model stack bidirectional structure.\n",
        "shape and parameters are visible above.\n",
        "test my model with simple lstm, bidirectional lstm, simple stack lstm, more of 2 stack lstm and unit number of 32, 64, 128, 256 and with or without dropout and concluded that this model is the best and stable accuracy that i got."
      ],
      "metadata": {
        "id": "qK5bfc6JVf3u"
      }
    },
    {
      "cell_type": "code",
      "source": [
        "model_lstm.compile(\n",
        "    loss=tf.keras.losses.SparseCategoricalCrossentropy(),\n",
        "    optimizer='Adam',\n",
        "    metrics=['accuracy']\n",
        ")"
      ],
      "metadata": {
        "id": "WoaWhUfrkVuG"
      },
      "execution_count": null,
      "outputs": []
    },
    {
      "cell_type": "markdown",
      "source": [
        "compile my model with sparse categorical cross entrophy because the label is not one-hot encode"
      ],
      "metadata": {
        "id": "23cQwBT5PV82"
      }
    },
    {
      "cell_type": "code",
      "source": [
        "rep = model_lstm.fit(\n",
        "    trainX,\n",
        "    trainY,\n",
        "    validation_split=0.1,\n",
        "    epochs = 100\n",
        ")"
      ],
      "metadata": {
        "colab": {
          "base_uri": "https://localhost:8080/"
        },
        "id": "qG5kIY5eknrn",
        "outputId": "de6af57c-5842-44cc-9fca-2c734ab2d16c"
      },
      "execution_count": null,
      "outputs": [
        {
          "output_type": "stream",
          "name": "stdout",
          "text": [
            "Epoch 1/100\n",
            "5/5 [==============================] - 6s 329ms/step - loss: 2.1919 - accuracy: 0.1299 - val_loss: 2.3095 - val_accuracy: 0.1111\n",
            "Epoch 2/100\n",
            "5/5 [==============================] - 0s 17ms/step - loss: 2.1945 - accuracy: 0.2143 - val_loss: 2.2453 - val_accuracy: 0.1667\n",
            "Epoch 3/100\n",
            "5/5 [==============================] - 0s 17ms/step - loss: 2.1121 - accuracy: 0.2532 - val_loss: 2.1293 - val_accuracy: 0.1667\n",
            "Epoch 4/100\n",
            "5/5 [==============================] - 0s 17ms/step - loss: 2.0111 - accuracy: 0.2662 - val_loss: 2.1077 - val_accuracy: 0.2222\n",
            "Epoch 5/100\n",
            "5/5 [==============================] - 0s 17ms/step - loss: 1.9751 - accuracy: 0.2792 - val_loss: 2.1729 - val_accuracy: 0.1111\n",
            "Epoch 6/100\n",
            "5/5 [==============================] - 0s 17ms/step - loss: 1.9524 - accuracy: 0.2597 - val_loss: 1.9745 - val_accuracy: 0.1667\n",
            "Epoch 7/100\n",
            "5/5 [==============================] - 0s 17ms/step - loss: 1.8703 - accuracy: 0.2857 - val_loss: 1.9850 - val_accuracy: 0.2222\n",
            "Epoch 8/100\n",
            "5/5 [==============================] - 0s 16ms/step - loss: 1.7969 - accuracy: 0.3442 - val_loss: 1.8868 - val_accuracy: 0.1667\n",
            "Epoch 9/100\n",
            "5/5 [==============================] - 0s 17ms/step - loss: 1.7446 - accuracy: 0.3571 - val_loss: 1.7671 - val_accuracy: 0.2222\n",
            "Epoch 10/100\n",
            "5/5 [==============================] - 0s 17ms/step - loss: 1.6921 - accuracy: 0.3571 - val_loss: 1.7272 - val_accuracy: 0.1667\n",
            "Epoch 11/100\n",
            "5/5 [==============================] - 0s 19ms/step - loss: 1.6408 - accuracy: 0.3766 - val_loss: 1.8479 - val_accuracy: 0.1667\n",
            "Epoch 12/100\n",
            "5/5 [==============================] - 0s 16ms/step - loss: 1.5858 - accuracy: 0.3636 - val_loss: 1.5879 - val_accuracy: 0.3889\n",
            "Epoch 13/100\n",
            "5/5 [==============================] - 0s 16ms/step - loss: 1.6013 - accuracy: 0.3571 - val_loss: 1.5270 - val_accuracy: 0.2778\n",
            "Epoch 14/100\n",
            "5/5 [==============================] - 0s 17ms/step - loss: 1.3783 - accuracy: 0.4416 - val_loss: 1.5784 - val_accuracy: 0.2778\n",
            "Epoch 15/100\n",
            "5/5 [==============================] - 0s 17ms/step - loss: 1.3415 - accuracy: 0.4870 - val_loss: 1.8178 - val_accuracy: 0.1667\n",
            "Epoch 16/100\n",
            "5/5 [==============================] - 0s 16ms/step - loss: 1.4038 - accuracy: 0.4091 - val_loss: 1.6987 - val_accuracy: 0.2222\n",
            "Epoch 17/100\n",
            "5/5 [==============================] - 0s 16ms/step - loss: 1.5459 - accuracy: 0.3766 - val_loss: 2.2414 - val_accuracy: 0.1667\n",
            "Epoch 18/100\n",
            "5/5 [==============================] - 0s 18ms/step - loss: 1.5342 - accuracy: 0.3896 - val_loss: 1.7140 - val_accuracy: 0.3333\n",
            "Epoch 19/100\n",
            "5/5 [==============================] - 0s 17ms/step - loss: 1.4335 - accuracy: 0.4221 - val_loss: 1.7381 - val_accuracy: 0.2222\n",
            "Epoch 20/100\n",
            "5/5 [==============================] - 0s 15ms/step - loss: 1.3905 - accuracy: 0.4416 - val_loss: 1.5449 - val_accuracy: 0.3333\n",
            "Epoch 21/100\n",
            "5/5 [==============================] - 0s 16ms/step - loss: 1.2945 - accuracy: 0.5000 - val_loss: 1.6087 - val_accuracy: 0.4444\n",
            "Epoch 22/100\n",
            "5/5 [==============================] - 0s 16ms/step - loss: 1.2910 - accuracy: 0.5065 - val_loss: 1.4587 - val_accuracy: 0.3333\n",
            "Epoch 23/100\n",
            "5/5 [==============================] - 0s 16ms/step - loss: 1.2277 - accuracy: 0.4935 - val_loss: 1.5632 - val_accuracy: 0.2778\n",
            "Epoch 24/100\n",
            "5/5 [==============================] - 0s 16ms/step - loss: 1.1385 - accuracy: 0.5390 - val_loss: 1.5333 - val_accuracy: 0.2778\n",
            "Epoch 25/100\n",
            "5/5 [==============================] - 0s 19ms/step - loss: 1.1016 - accuracy: 0.5195 - val_loss: 1.3762 - val_accuracy: 0.3889\n",
            "Epoch 26/100\n",
            "5/5 [==============================] - 0s 17ms/step - loss: 1.0597 - accuracy: 0.5844 - val_loss: 1.6718 - val_accuracy: 0.3889\n",
            "Epoch 27/100\n",
            "5/5 [==============================] - 0s 17ms/step - loss: 1.0590 - accuracy: 0.5455 - val_loss: 1.3488 - val_accuracy: 0.4444\n",
            "Epoch 28/100\n",
            "5/5 [==============================] - 0s 17ms/step - loss: 0.9451 - accuracy: 0.6234 - val_loss: 1.4679 - val_accuracy: 0.5000\n",
            "Epoch 29/100\n",
            "5/5 [==============================] - 0s 19ms/step - loss: 0.8790 - accuracy: 0.6753 - val_loss: 1.3962 - val_accuracy: 0.5000\n",
            "Epoch 30/100\n",
            "5/5 [==============================] - 0s 20ms/step - loss: 0.9568 - accuracy: 0.6104 - val_loss: 1.6527 - val_accuracy: 0.4444\n",
            "Epoch 31/100\n",
            "5/5 [==============================] - 0s 16ms/step - loss: 0.9209 - accuracy: 0.6104 - val_loss: 1.3319 - val_accuracy: 0.3889\n",
            "Epoch 32/100\n",
            "5/5 [==============================] - 0s 16ms/step - loss: 1.1468 - accuracy: 0.6169 - val_loss: 1.3836 - val_accuracy: 0.5000\n",
            "Epoch 33/100\n",
            "5/5 [==============================] - 0s 16ms/step - loss: 0.9998 - accuracy: 0.5974 - val_loss: 1.9376 - val_accuracy: 0.3333\n",
            "Epoch 34/100\n",
            "5/5 [==============================] - 0s 21ms/step - loss: 1.2832 - accuracy: 0.5130 - val_loss: 1.3345 - val_accuracy: 0.5000\n",
            "Epoch 35/100\n",
            "5/5 [==============================] - 0s 42ms/step - loss: 1.0626 - accuracy: 0.6039 - val_loss: 1.5050 - val_accuracy: 0.5000\n",
            "Epoch 36/100\n",
            "5/5 [==============================] - 0s 36ms/step - loss: 0.9595 - accuracy: 0.6558 - val_loss: 1.3769 - val_accuracy: 0.3889\n",
            "Epoch 37/100\n",
            "5/5 [==============================] - 0s 24ms/step - loss: 0.9246 - accuracy: 0.6429 - val_loss: 1.5223 - val_accuracy: 0.5000\n",
            "Epoch 38/100\n",
            "5/5 [==============================] - 0s 18ms/step - loss: 0.8694 - accuracy: 0.6753 - val_loss: 1.4236 - val_accuracy: 0.4444\n",
            "Epoch 39/100\n",
            "5/5 [==============================] - 0s 17ms/step - loss: 0.8528 - accuracy: 0.6494 - val_loss: 1.5451 - val_accuracy: 0.3889\n",
            "Epoch 40/100\n",
            "5/5 [==============================] - 0s 17ms/step - loss: 0.8288 - accuracy: 0.6818 - val_loss: 1.4484 - val_accuracy: 0.5000\n",
            "Epoch 41/100\n",
            "5/5 [==============================] - 0s 17ms/step - loss: 0.8382 - accuracy: 0.6558 - val_loss: 1.4561 - val_accuracy: 0.4444\n",
            "Epoch 42/100\n",
            "5/5 [==============================] - 0s 26ms/step - loss: 0.8088 - accuracy: 0.6623 - val_loss: 1.8133 - val_accuracy: 0.3889\n",
            "Epoch 43/100\n",
            "5/5 [==============================] - 0s 44ms/step - loss: 0.7934 - accuracy: 0.6948 - val_loss: 1.4178 - val_accuracy: 0.5556\n",
            "Epoch 44/100\n",
            "5/5 [==============================] - 0s 34ms/step - loss: 0.7724 - accuracy: 0.6948 - val_loss: 1.7882 - val_accuracy: 0.3333\n",
            "Epoch 45/100\n",
            "5/5 [==============================] - 0s 23ms/step - loss: 0.8728 - accuracy: 0.6558 - val_loss: 1.5272 - val_accuracy: 0.4444\n",
            "Epoch 46/100\n",
            "5/5 [==============================] - 0s 16ms/step - loss: 0.8198 - accuracy: 0.6883 - val_loss: 1.1914 - val_accuracy: 0.6111\n",
            "Epoch 47/100\n",
            "5/5 [==============================] - 0s 20ms/step - loss: 0.7775 - accuracy: 0.7078 - val_loss: 1.5344 - val_accuracy: 0.5556\n",
            "Epoch 48/100\n",
            "5/5 [==============================] - 0s 16ms/step - loss: 0.7579 - accuracy: 0.7013 - val_loss: 1.3836 - val_accuracy: 0.6111\n",
            "Epoch 49/100\n",
            "5/5 [==============================] - 0s 17ms/step - loss: 0.8203 - accuracy: 0.6623 - val_loss: 1.3215 - val_accuracy: 0.5556\n",
            "Epoch 50/100\n",
            "5/5 [==============================] - 0s 16ms/step - loss: 1.1057 - accuracy: 0.6039 - val_loss: 1.5098 - val_accuracy: 0.5000\n",
            "Epoch 51/100\n",
            "5/5 [==============================] - 0s 35ms/step - loss: 0.8636 - accuracy: 0.6169 - val_loss: 1.2438 - val_accuracy: 0.3889\n",
            "Epoch 52/100\n",
            "5/5 [==============================] - 0s 38ms/step - loss: 0.8072 - accuracy: 0.6948 - val_loss: 1.2954 - val_accuracy: 0.5556\n",
            "Epoch 53/100\n",
            "5/5 [==============================] - 0s 30ms/step - loss: 0.7580 - accuracy: 0.7143 - val_loss: 1.2647 - val_accuracy: 0.6111\n",
            "Epoch 54/100\n",
            "5/5 [==============================] - 0s 17ms/step - loss: 0.6723 - accuracy: 0.7468 - val_loss: 1.3563 - val_accuracy: 0.5000\n",
            "Epoch 55/100\n",
            "5/5 [==============================] - 0s 17ms/step - loss: 0.6600 - accuracy: 0.7403 - val_loss: 1.2758 - val_accuracy: 0.5000\n",
            "Epoch 56/100\n",
            "5/5 [==============================] - 0s 20ms/step - loss: 0.6497 - accuracy: 0.7403 - val_loss: 1.6094 - val_accuracy: 0.5556\n",
            "Epoch 57/100\n",
            "5/5 [==============================] - 0s 17ms/step - loss: 0.6813 - accuracy: 0.7143 - val_loss: 1.8687 - val_accuracy: 0.3889\n",
            "Epoch 58/100\n",
            "5/5 [==============================] - 0s 17ms/step - loss: 0.7698 - accuracy: 0.6688 - val_loss: 1.6701 - val_accuracy: 0.5000\n",
            "Epoch 59/100\n",
            "5/5 [==============================] - 0s 17ms/step - loss: 0.7439 - accuracy: 0.6753 - val_loss: 1.5168 - val_accuracy: 0.5000\n",
            "Epoch 60/100\n",
            "5/5 [==============================] - 0s 16ms/step - loss: 0.7562 - accuracy: 0.7013 - val_loss: 1.9410 - val_accuracy: 0.3333\n",
            "Epoch 61/100\n",
            "5/5 [==============================] - 0s 16ms/step - loss: 0.9062 - accuracy: 0.6623 - val_loss: 1.4466 - val_accuracy: 0.5000\n",
            "Epoch 62/100\n",
            "5/5 [==============================] - 0s 20ms/step - loss: 0.8660 - accuracy: 0.6623 - val_loss: 1.6182 - val_accuracy: 0.4444\n",
            "Epoch 63/100\n",
            "5/5 [==============================] - 0s 17ms/step - loss: 0.9357 - accuracy: 0.6299 - val_loss: 1.5239 - val_accuracy: 0.4444\n",
            "Epoch 64/100\n",
            "5/5 [==============================] - 0s 16ms/step - loss: 0.9071 - accuracy: 0.6688 - val_loss: 1.6759 - val_accuracy: 0.6111\n",
            "Epoch 65/100\n",
            "5/5 [==============================] - 0s 16ms/step - loss: 0.7616 - accuracy: 0.6948 - val_loss: 1.4133 - val_accuracy: 0.5556\n",
            "Epoch 66/100\n",
            "5/5 [==============================] - 0s 16ms/step - loss: 0.7988 - accuracy: 0.6883 - val_loss: 1.3721 - val_accuracy: 0.4444\n",
            "Epoch 67/100\n",
            "5/5 [==============================] - 0s 19ms/step - loss: 0.7074 - accuracy: 0.6948 - val_loss: 1.3459 - val_accuracy: 0.5000\n",
            "Epoch 68/100\n",
            "5/5 [==============================] - 0s 17ms/step - loss: 0.6770 - accuracy: 0.7208 - val_loss: 1.4908 - val_accuracy: 0.5000\n",
            "Epoch 69/100\n",
            "5/5 [==============================] - 0s 16ms/step - loss: 0.7061 - accuracy: 0.6948 - val_loss: 1.5111 - val_accuracy: 0.5000\n",
            "Epoch 70/100\n",
            "5/5 [==============================] - 0s 17ms/step - loss: 0.6540 - accuracy: 0.7662 - val_loss: 1.2694 - val_accuracy: 0.5556\n",
            "Epoch 71/100\n",
            "5/5 [==============================] - 0s 19ms/step - loss: 0.5658 - accuracy: 0.7922 - val_loss: 1.4520 - val_accuracy: 0.5000\n",
            "Epoch 72/100\n",
            "5/5 [==============================] - 0s 16ms/step - loss: 0.5609 - accuracy: 0.7727 - val_loss: 1.4365 - val_accuracy: 0.5556\n",
            "Epoch 73/100\n",
            "5/5 [==============================] - 0s 17ms/step - loss: 0.5440 - accuracy: 0.8247 - val_loss: 1.4310 - val_accuracy: 0.5000\n",
            "Epoch 74/100\n",
            "5/5 [==============================] - 0s 16ms/step - loss: 0.5148 - accuracy: 0.7792 - val_loss: 1.4359 - val_accuracy: 0.5000\n",
            "Epoch 75/100\n",
            "5/5 [==============================] - 0s 16ms/step - loss: 0.5426 - accuracy: 0.7987 - val_loss: 1.5611 - val_accuracy: 0.5000\n",
            "Epoch 76/100\n",
            "5/5 [==============================] - 0s 17ms/step - loss: 0.5165 - accuracy: 0.7662 - val_loss: 1.6356 - val_accuracy: 0.5000\n",
            "Epoch 77/100\n",
            "5/5 [==============================] - 0s 16ms/step - loss: 0.4932 - accuracy: 0.7987 - val_loss: 1.5884 - val_accuracy: 0.6111\n",
            "Epoch 78/100\n",
            "5/5 [==============================] - 0s 16ms/step - loss: 0.5352 - accuracy: 0.7792 - val_loss: 1.4992 - val_accuracy: 0.5000\n",
            "Epoch 79/100\n",
            "5/5 [==============================] - 0s 19ms/step - loss: 0.6444 - accuracy: 0.7532 - val_loss: 1.6633 - val_accuracy: 0.5000\n",
            "Epoch 80/100\n",
            "5/5 [==============================] - 0s 16ms/step - loss: 0.6062 - accuracy: 0.7532 - val_loss: 1.5640 - val_accuracy: 0.5000\n",
            "Epoch 81/100\n",
            "5/5 [==============================] - 0s 16ms/step - loss: 0.5674 - accuracy: 0.7922 - val_loss: 1.8747 - val_accuracy: 0.5000\n",
            "Epoch 82/100\n",
            "5/5 [==============================] - 0s 16ms/step - loss: 0.5077 - accuracy: 0.7857 - val_loss: 1.7424 - val_accuracy: 0.4444\n",
            "Epoch 83/100\n",
            "5/5 [==============================] - 0s 16ms/step - loss: 0.6502 - accuracy: 0.7273 - val_loss: 1.6610 - val_accuracy: 0.4444\n",
            "Epoch 84/100\n",
            "5/5 [==============================] - 0s 16ms/step - loss: 0.7543 - accuracy: 0.7208 - val_loss: 1.5180 - val_accuracy: 0.4444\n",
            "Epoch 85/100\n",
            "5/5 [==============================] - 0s 20ms/step - loss: 0.7875 - accuracy: 0.7143 - val_loss: 1.3915 - val_accuracy: 0.5556\n",
            "Epoch 86/100\n",
            "5/5 [==============================] - 0s 16ms/step - loss: 0.6803 - accuracy: 0.6948 - val_loss: 1.7948 - val_accuracy: 0.4444\n",
            "Epoch 87/100\n",
            "5/5 [==============================] - 0s 17ms/step - loss: 0.7231 - accuracy: 0.7208 - val_loss: 1.1896 - val_accuracy: 0.5556\n",
            "Epoch 88/100\n",
            "5/5 [==============================] - 0s 17ms/step - loss: 0.6772 - accuracy: 0.7273 - val_loss: 1.5196 - val_accuracy: 0.5000\n",
            "Epoch 89/100\n",
            "5/5 [==============================] - 0s 16ms/step - loss: 0.6217 - accuracy: 0.7662 - val_loss: 1.5014 - val_accuracy: 0.4444\n",
            "Epoch 90/100\n",
            "5/5 [==============================] - 0s 17ms/step - loss: 0.6300 - accuracy: 0.7597 - val_loss: 1.1500 - val_accuracy: 0.5000\n",
            "Epoch 91/100\n",
            "5/5 [==============================] - 0s 18ms/step - loss: 0.6313 - accuracy: 0.7532 - val_loss: 1.8487 - val_accuracy: 0.5000\n",
            "Epoch 92/100\n",
            "5/5 [==============================] - 0s 17ms/step - loss: 0.7676 - accuracy: 0.6753 - val_loss: 2.1176 - val_accuracy: 0.3333\n",
            "Epoch 93/100\n",
            "5/5 [==============================] - 0s 16ms/step - loss: 0.6973 - accuracy: 0.7143 - val_loss: 1.5436 - val_accuracy: 0.5000\n",
            "Epoch 94/100\n",
            "5/5 [==============================] - 0s 16ms/step - loss: 0.5814 - accuracy: 0.7468 - val_loss: 1.5271 - val_accuracy: 0.5000\n",
            "Epoch 95/100\n",
            "5/5 [==============================] - 0s 17ms/step - loss: 0.5762 - accuracy: 0.7597 - val_loss: 1.6714 - val_accuracy: 0.5000\n",
            "Epoch 96/100\n",
            "5/5 [==============================] - 0s 17ms/step - loss: 0.5351 - accuracy: 0.7597 - val_loss: 1.4437 - val_accuracy: 0.4444\n",
            "Epoch 97/100\n",
            "5/5 [==============================] - 0s 17ms/step - loss: 0.4761 - accuracy: 0.8052 - val_loss: 1.6795 - val_accuracy: 0.4444\n",
            "Epoch 98/100\n",
            "5/5 [==============================] - 0s 18ms/step - loss: 0.5105 - accuracy: 0.7792 - val_loss: 1.6928 - val_accuracy: 0.4444\n",
            "Epoch 99/100\n",
            "5/5 [==============================] - 0s 18ms/step - loss: 0.5088 - accuracy: 0.7792 - val_loss: 1.4921 - val_accuracy: 0.5556\n",
            "Epoch 100/100\n",
            "5/5 [==============================] - 0s 16ms/step - loss: 0.4470 - accuracy: 0.8182 - val_loss: 1.7395 - val_accuracy: 0.5556\n"
          ]
        }
      ]
    },
    {
      "cell_type": "markdown",
      "source": [
        "fit model with 100 epoch and 0.1 data for validation accuracy"
      ],
      "metadata": {
        "id": "CUzqicuQPmmd"
      }
    },
    {
      "cell_type": "code",
      "source": [
        "model_lstm.evaluate(\n",
        "    testX, testY\n",
        "    )"
      ],
      "metadata": {
        "id": "3A8_32jZWoAp",
        "colab": {
          "base_uri": "https://localhost:8080/"
        },
        "outputId": "b41338ff-eb18-45b4-d088-7455d3ac88b4"
      },
      "execution_count": null,
      "outputs": [
        {
          "output_type": "stream",
          "name": "stdout",
          "text": [
            "2/2 [==============================] - 0s 7ms/step - loss: 0.7591 - accuracy: 0.7674\n"
          ]
        },
        {
          "output_type": "execute_result",
          "data": {
            "text/plain": [
              "[0.7591279745101929, 0.7674418687820435]"
            ]
          },
          "metadata": {},
          "execution_count": 42
        }
      ]
    },
    {
      "cell_type": "markdown",
      "source": [
        "test my model after train and get result"
      ],
      "metadata": {
        "id": "xpZpbk1bPus3"
      }
    },
    {
      "cell_type": "code",
      "source": [
        "plt.plot(rep.history['accuracy'], label='accuracy')\n",
        "plt.plot(rep.history['val_accuracy'], label = 'val_accuracy')\n",
        "plt.xlabel('Epoch')\n",
        "plt.ylabel('Accuracy')\n",
        "plt.ylim([0, 1])\n",
        "plt.legend(loc='lower right')"
      ],
      "metadata": {
        "colab": {
          "base_uri": "https://localhost:8080/",
          "height": 301
        },
        "id": "hY6Pi2kIf6uh",
        "outputId": "a0515123-99c8-42a6-adaf-7d31f917ee98"
      },
      "execution_count": null,
      "outputs": [
        {
          "output_type": "execute_result",
          "data": {
            "text/plain": [
              "<matplotlib.legend.Legend at 0x7f22d35dc810>"
            ]
          },
          "metadata": {},
          "execution_count": 43
        },
        {
          "output_type": "display_data",
          "data": {
            "text/plain": [
              "<Figure size 432x288 with 1 Axes>"
            ],
            "image/png": "[encoded data removed]"
          },
          "metadata": {
            "needs_background": "light"
          }
        }
      ]
    },
    {
      "cell_type": "markdown",
      "source": [
        "plot accuracy and see fluctuation that because lack of sample but convergence is good"
      ],
      "metadata": {
        "id": "FzOPgtOeP8gd"
      }
    },
    {
      "cell_type": "code",
      "source": [
        "plt.plot(rep.history['loss'], label='loss')\n",
        "plt.plot(rep.history['val_loss'], label = 'val_loss')\n",
        "plt.xlabel('Epoch')\n",
        "plt.ylabel('Loss')\n",
        "plt.ylim([0, 2])\n",
        "plt.legend(loc='lower right')"
      ],
      "metadata": {
        "colab": {
          "base_uri": "https://localhost:8080/",
          "height": 301
        },
        "id": "FTn-gfnKgPPo",
        "outputId": "68d46f2f-ef8c-4b02-b239-724225180e34"
      },
      "execution_count": null,
      "outputs": [
        {
          "output_type": "execute_result",
          "data": {
            "text/plain": [
              "<matplotlib.legend.Legend at 0x7f22d34529d0>"
            ]
          },
          "metadata": {},
          "execution_count": 44
        },
        {
          "output_type": "display_data",
          "data": {
            "text/plain": [
              "<Figure size 432x288 with 1 Axes>"
            ],
            "image/png": "[encoded data removed]"
          },
          "metadata": {
            "needs_background": "light"
          }
        }
      ]
    },
    {
      "cell_type": "markdown",
      "source": [
        "decrase of loss is good."
      ],
      "metadata": {
        "id": "gJ7E69MiQcL9"
      }
    }
  ]
}